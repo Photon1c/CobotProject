{
 "cells": [
  {
   "cell_type": "markdown",
   "id": "e5507f54-3fc0-4ba6-be47-b3d4c4a6c2b7",
   "metadata": {},
   "source": [
    "Observe an image (of a desktop screenshot, satellite imagery, etc) and suggest an action based on desired outcome."
   ]
  },
  {
   "cell_type": "code",
   "execution_count": 40,
   "id": "2d3d5fb8-2580-4312-900c-f40dfdbf4e75",
   "metadata": {},
   "outputs": [
    {
     "name": "stdout",
     "output_type": "stream",
     "text": [
      "AI's Analysis:\n",
      "Choice(finish_reason='length', index=0, logprobs=None, message=ChatCompletionMessage(content='The image depicts the initial dispositions of forces during the Battle of Issus in 333 B.C., where Alexander the Great faced off against the Persian army led by King Darius III. \\n\\n### Description:\\n- **Persian Forces (Red)**: Positioned on the left side of the map, they are arranged in a wide formation to leverage their numerical superiority, with units labeled as \"Greeks\" (likely mercenaries) and \"Orientals.\" The command of Darius is centralized, indicating a hierarchical structure.\\n- **Macedonian Forces (Blue)**: Located on the right side, Alexander\\'s army is shown in a more compact formation. Notably, Alexander leads a cavalry unit, which is strategically positioned to exploit any vulnerabilities in the Persian line.\\n- **Geography**: The battle takes place near the Gulf of Issus, emphasizing the importance of terrain and access points. The river along the Persian line may act as a natural defense.\\n\\n### Military Tactics Applied:\\n1. **Flanking Maneuver**: Alexander could exploit his cavalry on the right to execute flanking attacks against the Persian units. By targeting the ends of the Persian line, he could create chaos and disrupt their formation.\\n   \\n2. **Use of Terrain**: Both armies must consider the terrain. The Macedonians could use the hills (not shown here but present in the region) to gain a height advantage, allowing for better visibility and control during engagements.\\n\\n3. **Divide and Conquer**:', refusal=None, role='assistant', audio=None, function_call=None, tool_calls=None))\n"
     ]
    }
   ],
   "source": [
    "#Starting sample script\n",
    "from openai import OpenAI\n",
    "from dotenv import load_dotenv\n",
    "import os\n",
    "\n",
    "url = \"https://upload.wikimedia.org/wikipedia/commons/thumb/b/bd/Battle_issus_initial.png/600px-Battle_issus_initial.png\"\n",
    "\n",
    "# Load environment variables\n",
    "load_dotenv()\n",
    "\n",
    "# Configure your OpenAI API key\n",
    "openai_api_key = os.getenv(\"OPENAI_API_KEY\")\n",
    "client = OpenAI(api_key=openai_api_key)\n",
    "\n",
    "def analyze_image_with_openai(image_url, query=\"What's in this image?\"):\n",
    "    \"\"\"\n",
    "    Function to analyze an image using OpenAI's Vision engine.\n",
    "\n",
    "    Parameters:\n",
    "    - image_url (str): The URL of the image to analyze.\n",
    "    - query (str): The question to ask about the image.\n",
    "\n",
    "    Returns:\n",
    "    - str: The AI's response describing or analyzing the image.\n",
    "    \"\"\"\n",
    "    response = client.chat.completions.create(\n",
    "        model=\"gpt-4o-mini\",\n",
    "        messages=[\n",
    "            {\n",
    "                \"role\": \"user\",\n",
    "                \"content\": [\n",
    "                    {\"type\": \"text\", \"text\": query},\n",
    "                    {\n",
    "                        \"type\": \"image_url\",\n",
    "                        \"image_url\": {\"url\": image_url},\n",
    "                    },\n",
    "                ],\n",
    "            }\n",
    "        ],\n",
    "        max_tokens=300,\n",
    "    )\n",
    "    return response.choices[0]\n",
    "\n",
    "# Example usage\n",
    "if __name__ == \"__main__\":\n",
    "    # Satellite image URL (example)\n",
    "    image_url = url\n",
    "    query = \"Describeme this image and apply military tactics to it.\"\n",
    "\n",
    "    try:\n",
    "        result = analyze_image_with_openai(image_url, query)\n",
    "        print(\"AI's Analysis:\")\n",
    "        print(result)\n",
    "    except Exception as e:\n",
    "        print(f\"An error occurred: {e}\")\n"
   ]
  },
  {
   "cell_type": "code",
   "execution_count": null,
   "id": "c7a3fced-48ec-4103-bdf1-e11510fd6e21",
   "metadata": {},
   "outputs": [],
   "source": []
  }
 ],
 "metadata": {
  "kernelspec": {
   "display_name": "Python 3 (ipykernel)",
   "language": "python",
   "name": "python3"
  },
  "language_info": {
   "codemirror_mode": {
    "name": "ipython",
    "version": 3
   },
   "file_extension": ".py",
   "mimetype": "text/x-python",
   "name": "python",
   "nbconvert_exporter": "python",
   "pygments_lexer": "ipython3",
   "version": "3.12.4"
  }
 },
 "nbformat": 4,
 "nbformat_minor": 5
}

{
 "cells": [
  {
   "cell_type": "markdown",
   "id": "e5507f54-3fc0-4ba6-be47-b3d4c4a6c2b7",
   "metadata": {},
   "source": [
    "Observe an image (of a desktop screenshot, satellite imagery, etc) and suggest an action based on desired outcome."
   ]
  },
  {
   "cell_type": "code",
   "execution_count": 21,
   "id": "2d3d5fb8-2580-4312-900c-f40dfdbf4e75",
   "metadata": {},
   "outputs": [
    {
     "name": "stdout",
     "output_type": "stream",
     "text": [
      "AI's Analysis:\n",
      "Choice(finish_reason='stop', index=0, logprobs=None, message=ChatCompletionMessage(content=\"The satellite image of Acatzingo, Puebla, shows a small town with a defined urban area surrounded by agricultural land. The layout indicates a central area likely composed of residential and commercial zones, with structures closely clustered together. The boundaries of Acatzingo appear marked, possibly indicating the town's limits. Surrounding the town, the agricultural fields suggest the area is involved in farming, with varied patterns indicating different crops or farming techniques. The presence of roads suggests accessibility and connectivity to nearby areas. Overall, the image conveys a typical rural-urban setup in a town in Puebla, Mexico.\", refusal=None, role='assistant', audio=None, function_call=None, tool_calls=None))\n"
     ]
    }
   ],
   "source": [
    "#Starting sample script\n",
    "from openai import OpenAI\n",
    "from dotenv import load_dotenv\n",
    "import os\n",
    "\n",
    "# Load environment variables\n",
    "load_dotenv()\n",
    "\n",
    "# Configure your OpenAI API key\n",
    "openai_api_key = os.getenv(\"OPENAI_API_KEY\")\n",
    "client = OpenAI(api_key=openai_api_key)\n",
    "\n",
    "def analyze_image_with_openai(image_url, query=\"What's in this image?\"):\n",
    "    \"\"\"\n",
    "    Function to analyze an image using OpenAI's Vision engine.\n",
    "\n",
    "    Parameters:\n",
    "    - image_url (str): The URL of the image to analyze.\n",
    "    - query (str): The question to ask about the image.\n",
    "\n",
    "    Returns:\n",
    "    - str: The AI's response describing or analyzing the image.\n",
    "    \"\"\"\n",
    "    response = client.chat.completions.create(\n",
    "        model=\"gpt-4o-mini\",\n",
    "        messages=[\n",
    "            {\n",
    "                \"role\": \"user\",\n",
    "                \"content\": [\n",
    "                    {\"type\": \"text\", \"text\": query},\n",
    "                    {\n",
    "                        \"type\": \"image_url\",\n",
    "                        \"image_url\": {\"url\": image_url},\n",
    "                    },\n",
    "                ],\n",
    "            }\n",
    "        ],\n",
    "        max_tokens=300,\n",
    "    )\n",
    "    return response.choices[0]\n",
    "\n",
    "# Example usage\n",
    "if __name__ == \"__main__\":\n",
    "    # Satellite image URL (example)\n",
    "    image_url = \"https://ik.imagekit.io/smdxc0e2g3/userscontent2-endpoint/images/07d07c04-0451-4ab8-8cb5-9ac5bedaa52a/0e57a9e92c8c2995840df0e65a955e09.png?tr=w-320,rt-0\"\n",
    "    query = \"What can you tell about this satellite image of Acatzingo, Puebla?\"\n",
    "\n",
    "    try:\n",
    "        result = analyze_image_with_openai(image_url, query)\n",
    "        print(\"AI's Analysis:\")\n",
    "        print(result)\n",
    "    except Exception as e:\n",
    "        print(f\"An error occurred: {e}\")\n"
   ]
  },
  {
   "cell_type": "code",
   "execution_count": null,
   "id": "c7a3fced-48ec-4103-bdf1-e11510fd6e21",
   "metadata": {},
   "outputs": [],
   "source": []
  }
 ],
 "metadata": {
  "kernelspec": {
   "display_name": "Python 3 (ipykernel)",
   "language": "python",
   "name": "python3"
  },
  "language_info": {
   "codemirror_mode": {
    "name": "ipython",
    "version": 3
   },
   "file_extension": ".py",
   "mimetype": "text/x-python",
   "name": "python",
   "nbconvert_exporter": "python",
   "pygments_lexer": "ipython3",
   "version": "3.12.4"
  }
 },
 "nbformat": 4,
 "nbformat_minor": 5
}
